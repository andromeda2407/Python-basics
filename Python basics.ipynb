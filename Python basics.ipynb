{
 "cells": [
  {
   "cell_type": "markdown",
   "id": "b927941f-5375-4565-bf58-9c77bf9b2bc3",
   "metadata": {},
   "source": [
    "## Python Basics"
   ]
  },
  {
   "cell_type": "raw",
   "id": "bdb96e99-b320-485d-b073-85092f238f94",
   "metadata": {},
   "source": [
    "1.\tWhat is Python, and why is it popular?\n",
    "# Answer: A.\tPython is a programming language known for simplicity and readability. It comes with a large standard library. It is popular because of its ease of learning and use, extensive libraries and frameworks and its versatility. And it is famous for its community support as well. "
   ]
  },
  {
   "cell_type": "raw",
   "id": "af06b441-ba42-4481-afc9-f16555bb04dd",
   "metadata": {},
   "source": [
    "2. What is an interpreter in Python?\n",
    "A. An interpreter is like a translator that converts your python code into an actions the computer understand and perform. Instead of translating the whole program at once, it translates line by line and executes immediately. Example: CPython. "
   ]
  },
  {
   "cell_type": "raw",
   "id": "7882dcff-0ae0-492e-97c3-c6261e38aea8",
   "metadata": {},
   "source": [
    "3.\tWhat are pre-defined keywords in Python?\n",
    "A.\tIt is a predefined words that hold special meaning and have special purpose. "
   ]
  },
  {
   "cell_type": "code",
   "execution_count": 4,
   "id": "c76a6ee0-f004-43cb-85b1-e4352afa727e",
   "metadata": {},
   "outputs": [
    {
     "name": "stdout",
     "output_type": "stream",
     "text": [
      "\n",
      "Here is a list of the Python keywords.  Enter any keyword to get more help.\n",
      "\n",
      "False               class               from                or\n",
      "None                continue            global              pass\n",
      "True                def                 if                  raise\n",
      "and                 del                 import              return\n",
      "as                  elif                in                  try\n",
      "assert              else                is                  while\n",
      "async               except              lambda              with\n",
      "await               finally             nonlocal            yield\n",
      "break               for                 not                 \n",
      "\n"
     ]
    }
   ],
   "source": [
    "# Example:\n",
    "help ('keywords')"
   ]
  },
  {
   "cell_type": "raw",
   "id": "afb2a59c-ab0c-46fa-9bf6-56f52835d007",
   "metadata": {},
   "source": [
    "4.\tCan keywords be used as variable names? \n",
    "A.\tNo, it cannot be used as variables. "
   ]
  },
  {
   "cell_type": "raw",
   "id": "864aa4f6-59bd-434d-8e33-0550a3983cf9",
   "metadata": {},
   "source": [
    "5.\tWhat is mutability in Python?\n",
    "A.\tIt refers to whether an object’s value can be changed after it has been created. Example: List is mutable as the value can be changed afterwords. "
   ]
  },
  {
   "cell_type": "raw",
   "id": "75189ff0-5b57-4dd0-9d7b-ffc6197963bf",
   "metadata": {},
   "source": [
    "6.\tWhy are lists mutable, but tuples are immutable?\n",
    "A.\tLists are designed to be versatile and dynamic. They allow frequent changes like adding, removing or modifying elements. Lists are suitable for scenarios where data needs to be changed over time, such as maintaining the collection of items in a shopping cart. \n",
    "Tuples are immutable as they are designed to represent a sequence of items that should not change after creation. This ensures that the data remains constant throughout the program’s execution. "
   ]
  },
  {
   "cell_type": "raw",
   "id": "115340c1-d822-4c9c-a3bd-3b0e174ebd58",
   "metadata": {},
   "source": [
    "7.\tWhat is the difference between “==” and “is” operators in Python?\n",
    "A.\t“==” compares the values of objects where as “is” compares the values of memory locations."
   ]
  },
  {
   "cell_type": "code",
   "execution_count": 5,
   "id": "25f319fb-171b-4a4e-8771-8d6a5380d1c9",
   "metadata": {},
   "outputs": [
    {
     "name": "stdout",
     "output_type": "stream",
     "text": [
      "True\n"
     ]
    }
   ],
   "source": [
    "  # Example (==):\n",
    "a = [1,2,3]\n",
    "b = [1,2,3]\n",
    "print (a==b) # Output: True (Values are same)"
   ]
  },
  {
   "cell_type": "code",
   "execution_count": 7,
   "id": "c8a816ee-3e0b-43f4-b9eb-df3c07c80ac6",
   "metadata": {},
   "outputs": [
    {
     "name": "stdout",
     "output_type": "stream",
     "text": [
      "False\n"
     ]
    }
   ],
   "source": [
    "  #Example (\"is\")\n",
    "a = [1,2,3]\n",
    "b = [1,2,3]\n",
    "print (a is b) # output: False (memory locations are different)"
   ]
  },
  {
   "cell_type": "raw",
   "id": "bf5e05e0-708c-4f8f-ad79-39fe58962430",
   "metadata": {},
   "source": [
    "8.\tWhat are logical operators in Python?\n",
    "A.\tIt is used to combine conditional statements and return True or False. The 3 main logical operators are and, or and not. \n",
    "And: Returns true if both conditions are true. If either of conditions are true, then it false.\n",
    "Or: Returns True if at least one condition is true.  It only returns false if both conditions are false. \n",
    "not: Reverse the result of the condition. If the condition is true, it returns False, and if the condition is False, it returns True. "
   ]
  },
  {
   "cell_type": "code",
   "execution_count": 8,
   "id": "f6800f32-4891-471c-9e75-189160844fe6",
   "metadata": {},
   "outputs": [
    {
     "data": {
      "text/plain": [
       "True"
      ]
     },
     "execution_count": 8,
     "metadata": {},
     "output_type": "execute_result"
    }
   ],
   "source": [
    "#Example for \"AND\"\n",
    "True and True"
   ]
  },
  {
   "cell_type": "code",
   "execution_count": 9,
   "id": "a3603326-1e2f-47d2-9ae4-4a33148f65e3",
   "metadata": {},
   "outputs": [
    {
     "data": {
      "text/plain": [
       "False"
      ]
     },
     "execution_count": 9,
     "metadata": {},
     "output_type": "execute_result"
    }
   ],
   "source": [
    "True and False"
   ]
  },
  {
   "cell_type": "code",
   "execution_count": 10,
   "id": "d24572f3-8a09-467a-a521-01de0a5bf429",
   "metadata": {},
   "outputs": [
    {
     "data": {
      "text/plain": [
       "True"
      ]
     },
     "execution_count": 10,
     "metadata": {},
     "output_type": "execute_result"
    }
   ],
   "source": [
    "#Example for \"Or\"\n",
    "True or False"
   ]
  },
  {
   "cell_type": "code",
   "execution_count": 11,
   "id": "a44c1c18-986a-454c-99d5-db33105bd993",
   "metadata": {},
   "outputs": [
    {
     "data": {
      "text/plain": [
       "True"
      ]
     },
     "execution_count": 11,
     "metadata": {},
     "output_type": "execute_result"
    }
   ],
   "source": [
    "False or True"
   ]
  },
  {
   "cell_type": "code",
   "execution_count": 12,
   "id": "eacc7fd7-ef14-4a8e-a858-ceaf2d8700f1",
   "metadata": {},
   "outputs": [
    {
     "data": {
      "text/plain": [
       "False"
      ]
     },
     "execution_count": 12,
     "metadata": {},
     "output_type": "execute_result"
    }
   ],
   "source": [
    "False or False"
   ]
  },
  {
   "cell_type": "code",
   "execution_count": 13,
   "id": "33a27898-8934-49b6-9ed4-37f90fed4227",
   "metadata": {},
   "outputs": [
    {
     "data": {
      "text/plain": [
       "True"
      ]
     },
     "execution_count": 13,
     "metadata": {},
     "output_type": "execute_result"
    }
   ],
   "source": [
    "True or True"
   ]
  },
  {
   "cell_type": "code",
   "execution_count": 15,
   "id": "e7f7e5f9-e36d-4892-944e-b0816605c837",
   "metadata": {},
   "outputs": [
    {
     "name": "stdout",
     "output_type": "stream",
     "text": [
      "False\n"
     ]
    }
   ],
   "source": [
    "#Example for \"not\"\n",
    "a = 10\n",
    "b = 5\n",
    "if not a<b:\n",
    "    print (\"False\")"
   ]
  },
  {
   "cell_type": "raw",
   "id": "4eb5ef63-ab6a-4963-a582-7bbd01391aaa",
   "metadata": {},
   "source": [
    "9.\tWhat is type casting in Python?\n",
    "A.\tThe process of changing the data types of a value/object. \n",
    "Example: a= “2”. Here is the data type of a is string. So if you use type casting a = int(a), and print(a) then it returns the integer value which is 2. "
   ]
  },
  {
   "cell_type": "code",
   "execution_count": 16,
   "id": "9d698160-f01d-4262-8c25-f251cae64690",
   "metadata": {},
   "outputs": [
    {
     "data": {
      "text/plain": [
       "str"
      ]
     },
     "execution_count": 16,
     "metadata": {},
     "output_type": "execute_result"
    }
   ],
   "source": [
    "#Example for Type casting\n",
    "a = \"2\"\n",
    "type(a)"
   ]
  },
  {
   "cell_type": "code",
   "execution_count": 11,
   "id": "25e91677-9eb8-45ba-9a42-7d97c0758995",
   "metadata": {},
   "outputs": [
    {
     "name": "stdout",
     "output_type": "stream",
     "text": [
      "2\n"
     ]
    },
    {
     "data": {
      "text/plain": [
       "int"
      ]
     },
     "execution_count": 11,
     "metadata": {},
     "output_type": "execute_result"
    }
   ],
   "source": [
    "a= \"2\"\n",
    "print(a)\n",
    "a=int(a)\n",
    "type(a)"
   ]
  },
  {
   "cell_type": "raw",
   "id": "40e4bf87-5156-49f2-bc01-de2a4f302717",
   "metadata": {},
   "source": [
    "10.\tWhat is the difference between implicit and explicit type casting?\n",
    "A.\tImplicit type casting is python understand the datatype without having it to define. For example: a =5 type(a) is int. \n",
    "Explicit is converting the datatype. For example: a= “2” int(a) is 2. "
   ]
  },
  {
   "cell_type": "code",
   "execution_count": 32,
   "id": "0e4e9edf-d8a1-4dd6-aa40-0fd6f9de5029",
   "metadata": {},
   "outputs": [
    {
     "data": {
      "text/plain": [
       "int"
      ]
     },
     "execution_count": 32,
     "metadata": {},
     "output_type": "execute_result"
    }
   ],
   "source": [
    "#implicit\n",
    "a = 5\n",
    "type(a)"
   ]
  },
  {
   "cell_type": "code",
   "execution_count": 33,
   "id": "c84a2a04-5cd9-4877-87fa-b146b0aa4204",
   "metadata": {},
   "outputs": [
    {
     "data": {
      "text/plain": [
       "int"
      ]
     },
     "execution_count": 33,
     "metadata": {},
     "output_type": "execute_result"
    }
   ],
   "source": [
    "#Explicit\n",
    "a = \"5\"\n",
    "a=int(a)\n",
    "type(a)"
   ]
  },
  {
   "cell_type": "raw",
   "id": "7ff8103d-a1f4-4c10-b562-63447a115618",
   "metadata": {},
   "source": [
    "11.\tWhat is the purpose of conditional statements in Python?\n",
    "A.\tIt allows you control the flow of your program based on a certain condition. They will help you execute a specific block of code when certain criteria are met. "
   ]
  },
  {
   "cell_type": "raw",
   "id": "bb86b4f0-20f8-42e5-9eca-d4ce25032373",
   "metadata": {},
   "source": [
    "12.\tHow does the elif statement work?\n",
    "A.\tThe elif short for “else if” is used to check multiple conditions in sequence after the initial if condition. How it works:\n",
    "-\tThe program first checks the condition in the if statement.\n",
    "-\tIf the “if” condition is True, the corresponding block of code will execute, and the program skips the remaining elif and else conditions. \n",
    "-\tIf the “if” condition is false, then it checks the each elif condition in order. \n",
    "-\tIf the elif condition is True, then it executes the corresponding block of code. \n",
    "-\tIf none of the if or elif conditions are True, then it executes the “else” block. "
   ]
  },
  {
   "cell_type": "code",
   "execution_count": 34,
   "id": "9aecd0e2-9775-4b80-9edd-945043298a4a",
   "metadata": {},
   "outputs": [
    {
     "name": "stdout",
     "output_type": "stream",
     "text": [
      "True\n"
     ]
    }
   ],
   "source": [
    "#Example:\n",
    "a = 10\n",
    "b = 5\n",
    "if a<b:\n",
    "    print(\"False\")\n",
    "elif a<=b:\n",
    "    print(\"False\")\n",
    "else:\n",
    "    print(\"True\")"
   ]
  },
  {
   "cell_type": "raw",
   "id": "21b318c2-5973-4443-83a5-9a6313b8eb3a",
   "metadata": {},
   "source": [
    "13.\tWhat is the difference between for and while loops?\n",
    "A.\tFor Loop: Purpose  is used when you know exactly how many times you want to iterate over a sequence or range. Example: \n",
    "\n",
    "While Loop: It is used when you want to repeat a block of code until the condition becomes false. The loop continues to execute as long as the condition is True."
   ]
  },
  {
   "cell_type": "code",
   "execution_count": 1,
   "id": "2c440c49-a87d-41f1-867b-a84480b8980c",
   "metadata": {},
   "outputs": [
    {
     "name": "stdout",
     "output_type": "stream",
     "text": [
      "1\n",
      "2\n",
      "3\n",
      "4\n"
     ]
    }
   ],
   "source": [
    "# Example for \"for\" loop\n",
    "numbers = [1,2,3,4]\n",
    "for number in numbers:\n",
    "       print (number)"
   ]
  },
  {
   "cell_type": "code",
   "execution_count": 2,
   "id": "ecfea605-73d6-4c23-83cf-1eb461d0a320",
   "metadata": {},
   "outputs": [
    {
     "name": "stdout",
     "output_type": "stream",
     "text": [
      "1\n",
      "2\n",
      "3\n",
      "4\n"
     ]
    }
   ],
   "source": [
    "#Example for While loop\n",
    "X = 1\n",
    "while X < 5:\n",
    "    print(X)\n",
    "    X=X+1"
   ]
  },
  {
   "cell_type": "raw",
   "id": "a93f5186-1cdc-4ea0-b78d-df9b3be25637",
   "metadata": {},
   "source": [
    "14. Describe a scenario where a while loop is more suitable than a for loop?\n",
    "A. Consider a program where you need to repeatedly ask a user for a valid password until they enter the correct one. Since you don't know in advance how many attempts the user will take, a while loop is more appropriate."
   ]
  },
  {
   "cell_type": "code",
   "execution_count": 3,
   "id": "2a2c94e0-fd3e-4a9f-b4c9-6b9f5ae8f875",
   "metadata": {},
   "outputs": [
    {
     "name": "stdin",
     "output_type": "stream",
     "text": [
      "Enter Password: test\n"
     ]
    },
    {
     "name": "stdout",
     "output_type": "stream",
     "text": [
      "Wrong Password. Enter correct Password:\n"
     ]
    },
    {
     "name": "stdin",
     "output_type": "stream",
     "text": [
      "Enter Password: Test\n"
     ]
    },
    {
     "name": "stdout",
     "output_type": "stream",
     "text": [
      "Wrong Password. Enter correct Password:\n"
     ]
    },
    {
     "name": "stdin",
     "output_type": "stream",
     "text": [
      "Enter Password: Munaib@123\n"
     ]
    },
    {
     "name": "stdout",
     "output_type": "stream",
     "text": [
      "Access is granted\n"
     ]
    }
   ],
   "source": [
    "#Example:\n",
    "Password = \"Munaib@123\"\n",
    "User_input = \"\"\n",
    "while User_input != Password:\n",
    "    User_input = input(\"Enter Password:\")\n",
    "    if User_input != Password:\n",
    "        print(\"Wrong Password. Enter correct Password:\")\n",
    "        \n",
    "print (\"Access is granted\")    \n"
   ]
  },
  {
   "cell_type": "markdown",
   "id": "e73dee20-5b6b-464d-89a1-c6ae6c970c97",
   "metadata": {},
   "source": [
    "## Practical Questions"
   ]
  },
  {
   "cell_type": "raw",
   "id": "bbb2e775-7d07-466c-aa05-166b0bcaa772",
   "metadata": {},
   "source": [
    "1. Write a Python program to print \"Hello, World!"
   ]
  },
  {
   "cell_type": "code",
   "execution_count": 6,
   "id": "d01fb828-3d60-446e-ae47-70b969429881",
   "metadata": {},
   "outputs": [
    {
     "name": "stdout",
     "output_type": "stream",
     "text": [
      "Hello, World!\n"
     ]
    }
   ],
   "source": [
    "print (\"Hello, World!\")"
   ]
  },
  {
   "cell_type": "raw",
   "id": "e10a5316-a975-48de-8dfb-b451e748075b",
   "metadata": {},
   "source": [
    "2. Write a Python program that displays your name and age"
   ]
  },
  {
   "cell_type": "code",
   "execution_count": 16,
   "id": "960d0eb1-9fc0-4b71-a63c-262bf30f349d",
   "metadata": {},
   "outputs": [
    {
     "name": "stdout",
     "output_type": "stream",
     "text": [
      "Name: Munaib\n",
      "Age: 30\n"
     ]
    }
   ],
   "source": [
    "Name:'Munaib'\n",
    "Age: 30\n",
    "print(f\"Name: {Name}\\nAge: {Age}\")"
   ]
  },
  {
   "cell_type": "raw",
   "id": "1bb70cbd-7f6f-4a90-8066-cfc2e139d03e",
   "metadata": {},
   "source": [
    "3. Write code to print all the pre-defined keywords in Python using the keyword library"
   ]
  },
  {
   "cell_type": "code",
   "execution_count": 18,
   "id": "ba102b57-979d-4339-ae6d-dde054a0a2ae",
   "metadata": {},
   "outputs": [
    {
     "name": "stdout",
     "output_type": "stream",
     "text": [
      "\n",
      "Here is a list of the Python keywords.  Enter any keyword to get more help.\n",
      "\n",
      "False               class               from                or\n",
      "None                continue            global              pass\n",
      "True                def                 if                  raise\n",
      "and                 del                 import              return\n",
      "as                  elif                in                  try\n",
      "assert              else                is                  while\n",
      "async               except              lambda              with\n",
      "await               finally             nonlocal            yield\n",
      "break               for                 not                 \n",
      "\n"
     ]
    }
   ],
   "source": [
    "help(\"keywords\")"
   ]
  },
  {
   "cell_type": "raw",
   "id": "47f54b99-d997-4c05-96d4-c8ccbe63ca0e",
   "metadata": {},
   "source": [
    "4. Write a program that checks if a given word is a Python keyword"
   ]
  },
  {
   "cell_type": "code",
   "execution_count": 22,
   "id": "70b7bfbd-943a-43d1-ae6e-b67d4d2cbaea",
   "metadata": {},
   "outputs": [
    {
     "name": "stdin",
     "output_type": "stream",
     "text": [
      "Enter a word class\n"
     ]
    },
    {
     "name": "stdout",
     "output_type": "stream",
     "text": [
      "class is a python keyword\n"
     ]
    }
   ],
   "source": [
    "Python_word = [\"False\", \"None\", \"True\", \"and\", \"as\", \"assert\", \"async\", \"await\", \"break\", \n",
    "    \"class\", \"continue\", \"def\", \"del\", \"elif\", \"else\", \"except\", \"finally\", \n",
    "    \"for\", \"from\", \"global\", \"if\", \"import\", \"in\", \"is\", \"lambda\", \"nonlocal\", \n",
    "    \"not\", \"or\", \"pass\", \"raise\", \"return\", \"try\", \"while\", \"with\", \"yield\"]\n",
    "Word = input(\"Enter a word\")\n",
    "if Word in Python_word:\n",
    "    print(f\"{Word} is a python keyword\")\n",
    "else:\n",
    "    print(f\"{Word} is not a python keyword\")"
   ]
  },
  {
   "cell_type": "raw",
   "id": "ce553f38-043c-4a12-b6a7-3ce2a0e7f97d",
   "metadata": {},
   "source": [
    "5. Create a list and tuple in Python, and demonstrate how attempting to change an element works differently for each"
   ]
  },
  {
   "cell_type": "code",
   "execution_count": 28,
   "id": "cc9b3e70-aadd-4eee-a85c-ec27b17ef03f",
   "metadata": {},
   "outputs": [
    {
     "name": "stdout",
     "output_type": "stream",
     "text": [
      "Original List: [1, 2, 3, 4]\n",
      "Modified list: [0, 2, 3, 4]\n",
      "Original Tuple: (1, 2, 3, 4)\n"
     ]
    },
    {
     "ename": "TypeError",
     "evalue": "'tuple' object does not support item assignment",
     "output_type": "error",
     "traceback": [
      "\u001b[1;31m---------------------------------------------------------------------------\u001b[0m",
      "\u001b[1;31mTypeError\u001b[0m                                 Traceback (most recent call last)",
      "Cell \u001b[1;32mIn[28], line 10\u001b[0m\n\u001b[0;32m      6\u001b[0m \u001b[38;5;28mprint\u001b[39m(\u001b[38;5;124m\"\u001b[39m\u001b[38;5;124mModified list:\u001b[39m\u001b[38;5;124m\"\u001b[39m, My_list) \u001b[38;5;66;03m#Printing modified item assignment\u001b[39;00m\n\u001b[0;32m      9\u001b[0m \u001b[38;5;28mprint\u001b[39m(\u001b[38;5;124m\"\u001b[39m\u001b[38;5;124mOriginal Tuple:\u001b[39m\u001b[38;5;124m\"\u001b[39m, My_tuple) \u001b[38;5;66;03m#Printing original Tuple\u001b[39;00m\n\u001b[1;32m---> 10\u001b[0m \u001b[43mMy_tuple\u001b[49m\u001b[43m[\u001b[49m\u001b[38;5;241;43m0\u001b[39;49m\u001b[43m]\u001b[49m\u001b[38;5;241m=\u001b[39m\u001b[38;5;241m0\u001b[39m \u001b[38;5;66;03m#item assignment in tuple\u001b[39;00m\n\u001b[0;32m     11\u001b[0m \u001b[38;5;28mprint\u001b[39m(\u001b[38;5;124m\"\u001b[39m\u001b[38;5;124mModified tuple\u001b[39m\u001b[38;5;124m\"\u001b[39m, My_tuple) \u001b[38;5;66;03m# it returns with error as tuple cannot do item assignment\u001b[39;00m\n",
      "\u001b[1;31mTypeError\u001b[0m: 'tuple' object does not support item assignment"
     ]
    }
   ],
   "source": [
    "My_list = [1,2,3,4] #List\n",
    "My_tuple = (1,2,3,4) # Tuple\n",
    "\n",
    "print(\"Original List:\", My_list) #Printing Original List\n",
    "My_list[0] = 0 #item assignment in list\n",
    "print(\"Modified list:\", My_list) #Printing modified item assignment\n",
    "\n",
    "\n",
    "print(\"Original Tuple:\", My_tuple) #Printing original Tuple\n",
    "My_tuple[0]=0 #item assignment in tuple\n",
    "print(\"Modified tuple\", My_tuple) # it returns an error as tuple cannot do item assignment\n"
   ]
  },
  {
   "cell_type": "raw",
   "id": "f0d91a68-05ba-488e-8be3-7e55fd47810a",
   "metadata": {},
   "source": [
    "6. Write a function to demonstrate the behavior of mutable and immutable arguments"
   ]
  },
  {
   "cell_type": "code",
   "execution_count": 5,
   "id": "b7c8e715-d749-4e30-8e46-800af12c2820",
   "metadata": {},
   "outputs": [
    {
     "name": "stdout",
     "output_type": "stream",
     "text": [
      "Before modifying immutable_arg (int): 5\n",
      "After modifying immutable_arg (int): 15\n",
      "Before modifying the mutable_arg (list): [1, 2, 3]\n",
      "After modifying the immutable (list): [1, 2, 4]\n"
     ]
    }
   ],
   "source": [
    "immutable_arg = 5\n",
    "print(f\"Before modifying immutable_arg (int): {immutable_arg}\")\n",
    "immutable_arg +=10 # this creates the new integer, but does not modify the orignal one. \n",
    "print(f\"After modifying immutable_arg (int): {immutable_arg}\")\n",
    "\n",
    "##Immutable\n",
    "immutable_arg = [1,2,3]\n",
    "print(f\"Before modifying the mutable_arg (list): {immutable_arg}\")\n",
    "immutable_arg[2]=4 #this will modify the original list\n",
    "print(f\"After modifying the immutable (list): {immutable_arg}\")"
   ]
  },
  {
   "cell_type": "raw",
   "id": "7722edd9-6028-44c7-ba40-feee572dff6d",
   "metadata": {},
   "source": [
    "8. Write a program to demonstrate the use of logical operators"
   ]
  },
  {
   "cell_type": "code",
   "execution_count": 6,
   "id": "447c0426-ed74-48f9-ab96-5edbfdcbd9f2",
   "metadata": {},
   "outputs": [
    {
     "name": "stdout",
     "output_type": "stream",
     "text": [
      "Using 'and' operator:\n",
      "(a > b) and (c > d) -> True\n",
      "\n",
      "Using 'or' operator:\n",
      "(a > b) or (c < d) -> True\n",
      "\n",
      "Using 'not' operator:\n",
      "not (a == b) -> True\n",
      "\n",
      "Combining logical operators:\n",
      "((a > b) and (c > d)) or (d < a) -> True\n"
     ]
    }
   ],
   "source": [
    "a = 10\n",
    "b = 5\n",
    "c = 20\n",
    "d = 15\n",
    "\n",
    "# and operator\n",
    "print(\"Using 'and' operator:\")\n",
    "result_and = (a > b) and (c > d)  # True because both conditions are True\n",
    "print(f\"(a > b) and (c > d) -> {result_and}\")  # Expected: True\n",
    "\n",
    "# The 'or' operator\n",
    "print(\"\\nUsing 'or' operator:\")\n",
    "result_or = (a > b) or (c < d)  # True because the first condition is True\n",
    "print(f\"(a > b) or (c < d) -> {result_or}\")  # Expected: True\n",
    "\n",
    "# Demonstrate the 'not' operator\n",
    "print(\"\\nUsing 'not' operator:\")\n",
    "result_not = not (a == b)  # True because a is not equal to b\n",
    "print(f\"not (a == b) -> {result_not}\")  # Expected: True\n",
    "\n",
    "# Combining logical operators\n",
    "print(\"\\nCombining logical operators:\")\n",
    "result_combined = (a > b) and (c > d) or (d < a)  # True because both 'a > b' and 'd < a' are True\n",
    "print(f\"((a > b) and (c > d)) or (d < a) -> {result_combined}\")  # Expected: True"
   ]
  },
  {
   "cell_type": "raw",
   "id": "87aec3ce-f873-462e-934c-686f10b902e2",
   "metadata": {},
   "source": [
    "9. Write a Python program to convert user input from string to integer, float, and boolean types"
   ]
  },
  {
   "cell_type": "code",
   "execution_count": 10,
   "id": "b95147b3-41f4-445b-8db2-482c36e16460",
   "metadata": {},
   "outputs": [
    {
     "name": "stdin",
     "output_type": "stream",
     "text": [
      "Enter Your Age 23\n"
     ]
    },
    {
     "name": "stdout",
     "output_type": "stream",
     "text": [
      "Your age is 23\n",
      "Type before conversation <class 'str'>\n",
      "Your age is 23\n",
      "Type after conversation <class 'int'>\n"
     ]
    }
   ],
   "source": [
    "Age = input(\"Enter Your Age\") # input() function will return string \n",
    "print(\"Your age is\", Age) \n",
    "print(\"Type before conversation\", type(Age))\n",
    "Age = int(Age)\n",
    "print(\"Your age is\", Age) # This is now an integer\n",
    "print(\"Type after conversation\", type(Age))"
   ]
  },
  {
   "cell_type": "raw",
   "id": "d3b90ac7-2fb1-4269-a2ae-148253b53f8a",
   "metadata": {},
   "source": [
    "11. Write code to demonstrate type casting with list elements"
   ]
  },
  {
   "cell_type": "code",
   "execution_count": 16,
   "id": "19d47bbb-6f37-44e9-aa9b-ee1b8ca2860d",
   "metadata": {},
   "outputs": [
    {
     "name": "stdout",
     "output_type": "stream",
     "text": [
      "Original List ['2', '2.5', '3', '4.8', '5']\n",
      "List with elements converted to integer [2, 2, 3, 4, 5]\n",
      "List with elements converted to integer [2.0, 2.5, 3.0, 4.8, 5.0]\n",
      "List with elements converted into string ['2.0', '2.5', '3.0', '4.8', '5.0']\n",
      "List with elements converted into boolean [True, True, True, True, True]\n"
     ]
    }
   ],
   "source": [
    "data = [\"2\", \"2.5\", \"3\", \"4.8\", \"5\"]\n",
    "print(\"Original List\", data)\n",
    "int_data = [int(float(item)) for item in data] # this will first convert the string into float and then into integer\n",
    "print(\"List with elements converted to integer\", int_data)\n",
    "float_data = [float(item) for item in data] #This will convert the string into float\n",
    "print(\"List with elements converted to integer\", float_data)\n",
    "str_data = [str(item) for item in float_data]\n",
    "print(\"List with elements converted into string\", str_data) # This will convert into string \n",
    "bool_data = [bool(item) for item in str_data]\n",
    "print(\"List with elements converted into boolean\", bool_data)"
   ]
  },
  {
   "cell_type": "raw",
   "id": "dca32bc4-16c3-4d9e-9773-7e03155ef4c2",
   "metadata": {},
   "source": [
    "12. Write a program that checks if a number is positive, negative, or zero"
   ]
  },
  {
   "cell_type": "code",
   "execution_count": 22,
   "id": "a6cb1164-e3d3-415e-9fae-edd283cf7a1d",
   "metadata": {},
   "outputs": [
    {
     "name": "stdin",
     "output_type": "stream",
     "text": [
      "Enter the Number -2\n"
     ]
    },
    {
     "name": "stdout",
     "output_type": "stream",
     "text": [
      "-2 is negative\n"
     ]
    }
   ],
   "source": [
    "Number = input(\"Enter the Number\")\n",
    "Number = int(Number)\n",
    "if Number > 0:\n",
    "    print(f\"{Number} is positive\")\n",
    "elif Number < 0:\n",
    "    print(f\"{Number} is negative\")\n",
    "else:\n",
    "    print(\"Entered Number is zero\")"
   ]
  },
  {
   "cell_type": "raw",
   "id": "a562b1e7-2a46-4066-9cdf-accc059c02a5",
   "metadata": {},
   "source": [
    "13. Write a for loop to print numbers from 1 to 10"
   ]
  },
  {
   "cell_type": "code",
   "execution_count": 23,
   "id": "b3f4d5ea-3712-489a-ac9f-14ae685241cd",
   "metadata": {},
   "outputs": [
    {
     "name": "stdout",
     "output_type": "stream",
     "text": [
      "1\n",
      "2\n",
      "3\n",
      "4\n",
      "5\n",
      "6\n",
      "7\n",
      "8\n",
      "9\n",
      "10\n"
     ]
    }
   ],
   "source": [
    "number = 1\n",
    "while number >=1:\n",
    "    print(number)\n",
    "    number +=1\n",
    "    if number == 11:\n",
    "        break"
   ]
  },
  {
   "cell_type": "raw",
   "id": "84e076dd-5bf0-4b2f-a371-af06bb1660fc",
   "metadata": {},
   "source": [
    "14. Write a Python program to find the sum of all even numbers between 1 and 50"
   ]
  },
  {
   "cell_type": "code",
   "execution_count": 24,
   "id": "d150bc51-1c9a-42b1-99ad-3e654ba73ed9",
   "metadata": {},
   "outputs": [
    {
     "name": "stdout",
     "output_type": "stream",
     "text": [
      "Sum of all even numbers between 1 and 50 are 650\n"
     ]
    }
   ],
   "source": [
    "even_sum = 0\n",
    "for number in range(1, 51):\n",
    "    if number%2 == 0:\n",
    "        even_sum+=number\n",
    "print(\"Sum of all even numbers between 1 and 50 are\", even_sum)"
   ]
  },
  {
   "cell_type": "raw",
   "id": "0cf65595-8050-4176-b042-de09f49b8dca",
   "metadata": {},
   "source": [
    "15. Write a program to reverse a string using a while loop"
   ]
  },
  {
   "cell_type": "code",
   "execution_count": 27,
   "id": "1b87cebe-48d8-4899-ae08-d27ccad3f5c9",
   "metadata": {},
   "outputs": [
    {
     "name": "stdin",
     "output_type": "stream",
     "text": [
      "Enter a String: Munaib\n"
     ]
    },
    {
     "name": "stdout",
     "output_type": "stream",
     "text": [
      "The reversed string is bianuM\n"
     ]
    }
   ],
   "source": [
    "original_string = input(\"Enter a String:\")\n",
    "reversed_string = \"\"\n",
    "index = len(original_string) - 1\n",
    "while index>=0:\n",
    "    reversed_string += original_string[index]\n",
    "    index -=1\n",
    "print(\"The reversed string is\", reversed_string)"
   ]
  },
  {
   "cell_type": "raw",
   "id": "467ca69d-d0f2-4ad7-afc5-c26027a58655",
   "metadata": {},
   "source": [
    "16. Write a Python program to calculate the factorial of a number provided by the user using a while loop."
   ]
  },
  {
   "cell_type": "code",
   "execution_count": 36,
   "id": "fcf3d405-2012-4c5f-82fb-c650e7ce1872",
   "metadata": {},
   "outputs": [
    {
     "name": "stdin",
     "output_type": "stream",
     "text": [
      "Enter the number 10\n"
     ]
    },
    {
     "name": "stdout",
     "output_type": "stream",
     "text": [
      "The factorial number of 10 is 3628800\n"
     ]
    }
   ],
   "source": [
    "number = input(\"Enter the number\")\n",
    "int_number = int(number)\n",
    "fact_number = 1\n",
    "counter = 1\n",
    "while counter <= int_number:\n",
    "    fact_number *= counter\n",
    "    counter += 1\n",
    "print(f\"The factorial of {int_number} is {fact_number}\")\n"
   ]
  },
  {
   "cell_type": "code",
   "execution_count": null,
   "id": "dc6e40ac-c8d6-43fb-833b-682414928e7f",
   "metadata": {},
   "outputs": [],
   "source": []
  }
 ],
 "metadata": {
  "kernelspec": {
   "display_name": "Python 3 (ipykernel)",
   "language": "python",
   "name": "python3"
  },
  "language_info": {
   "codemirror_mode": {
    "name": "ipython",
    "version": 3
   },
   "file_extension": ".py",
   "mimetype": "text/x-python",
   "name": "python",
   "nbconvert_exporter": "python",
   "pygments_lexer": "ipython3",
   "version": "3.9.6"
  }
 },
 "nbformat": 4,
 "nbformat_minor": 5
}
